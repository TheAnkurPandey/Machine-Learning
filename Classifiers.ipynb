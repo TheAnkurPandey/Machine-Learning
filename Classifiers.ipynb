{
 "cells": [
  {
   "cell_type": "code",
   "execution_count": 24,
   "metadata": {},
   "outputs": [
    {
     "name": "stdout",
     "output_type": "stream",
     "text": [
      "Downloading data from https://s3.amazonaws.com/img-datasets/mnist.npz\n",
      "11468800/11490434 [============================>.] - ETA: 0s"
     ]
    },
    {
     "data": {
      "image/png": "[encoded data removed]",
      "text/plain": [
       "<matplotlib.figure.Figure at 0xadaf799978>"
      ]
     },
     "metadata": {},
     "output_type": "display_data"
    }
   ],
   "source": [
    "# Plot of images as baseline for comparison \n",
    "from keras.datasets import mnist \n",
    "from matplotlib import pyplot \n",
    "# load data \n",
    "(X_train, y_train), (X_test, y_test) = mnist.load_data() \n",
    "# create a grid of 3x3 images \n",
    "for i in range(0, 9): \n",
    "    pyplot.subplot(330 + 1 + i) \n",
    "    pyplot.imshow(X_train[i], cmap=pyplot.get_cmap('gray'))\n",
    "# show the plot\n",
    "pyplot.show()"
   ]
  },
  {
   "cell_type": "code",
   "execution_count": 25,
   "metadata": {},
   "outputs": [
    {
     "name": "stdout",
     "output_type": "stream",
     "text": [
      "Train on 60000 samples, validate on 10000 samples\n",
      "Epoch 1/10\n",
      "8s - loss: 0.2795 - acc: 0.9209 - val_loss: 0.1417 - val_acc: 0.9571\n",
      "Epoch 2/10\n",
      "7s - loss: 0.1119 - acc: 0.9675 - val_loss: 0.0921 - val_acc: 0.9711\n",
      "Epoch 3/10\n",
      "7s - loss: 0.0715 - acc: 0.9797 - val_loss: 0.0783 - val_acc: 0.9774\n",
      "Epoch 4/10\n",
      "7s - loss: 0.0503 - acc: 0.9859 - val_loss: 0.0755 - val_acc: 0.9767\n",
      "Epoch 5/10\n",
      "7s - loss: 0.0374 - acc: 0.9891 - val_loss: 0.0683 - val_acc: 0.9786\n",
      "Epoch 6/10\n",
      "7s - loss: 0.0268 - acc: 0.9927 - val_loss: 0.0632 - val_acc: 0.9803\n",
      "Epoch 7/10\n",
      "7s - loss: 0.0207 - acc: 0.9947 - val_loss: 0.0621 - val_acc: 0.9810\n",
      "Epoch 8/10\n",
      "7s - loss: 0.0137 - acc: 0.9971 - val_loss: 0.0618 - val_acc: 0.9805\n",
      "Epoch 9/10\n",
      "7s - loss: 0.0110 - acc: 0.9978 - val_loss: 0.0582 - val_acc: 0.9809\n",
      "Epoch 10/10\n",
      "7s - loss: 0.0082 - acc: 0.9983 - val_loss: 0.0583 - val_acc: 0.9813\n",
      "Baseline Error: 1.87%\n"
     ]
    }
   ],
   "source": [
    "#MLP\n",
    "import numpy\n",
    "from keras.datasets import mnist\n",
    "from keras.models import Sequential\n",
    "from keras.layers import Dense\n",
    "from keras.layers import Dropout\n",
    "from keras.utils import np_utils\n",
    "# fix random seed for reproducibility\n",
    "seed = 7\n",
    "numpy.random.seed(seed)\n",
    "# load data\n",
    "(X_train, y_train), (X_test, y_test) = mnist.load_data()\n",
    "# flatten 28*28 images to a 784 vector for each image\n",
    "num_pixels = X_train.shape[1] * X_train.shape[2]\n",
    "X_train = X_train.reshape(X_train.shape[0], num_pixels).astype('float32')\n",
    "X_test = X_test.reshape(X_test.shape[0], num_pixels).astype('float32')\n",
    "# normalize inputs from 0-255 to 0-1\n",
    "X_train = X_train / 255\n",
    "X_test = X_test / 255\n",
    "# one hot encode outputs\n",
    "y_train = np_utils.to_categorical(y_train)\n",
    "y_test = np_utils.to_categorical(y_test)\n",
    "num_classes = y_test.shape[1]\n",
    "# define baseline model\n",
    "def baseline_model():\n",
    "\t# create model\n",
    "\tmodel = Sequential()\n",
    "\tmodel.add(Dense(num_pixels, input_dim=num_pixels, kernel_initializer='normal', activation='relu'))\n",
    "\tmodel.add(Dense(num_classes, kernel_initializer='normal', activation='softmax'))\n",
    "\t# Compile model\n",
    "\tmodel.compile(loss='categorical_crossentropy', optimizer='adam', metrics=['accuracy'])\n",
    "\treturn model\n",
    "# build the model\n",
    "model = baseline_model()\n",
    "# Fit the model\n",
    "model.fit(X_train, y_train, validation_data=(X_test, y_test), epochs=10, batch_size=200, verbose=2)\n",
    "# Final evaluation of the model\n",
    "scores = model.evaluate(X_test, y_test, verbose=0)\n",
    "print(\"Baseline Error: %.2f%%\" % (100-scores[1]*100))"
   ]
  },
  {
   "cell_type": "code",
   "execution_count": 26,
   "metadata": {},
   "outputs": [
    {
     "name": "stdout",
     "output_type": "stream",
     "text": [
      "Train on 60000 samples, validate on 10000 samples\n",
      "Epoch 1/10\n",
      "60000/60000 [==============================] - 121s - loss: 0.2310 - acc: 0.9346 - val_loss: 0.0822 - val_acc: 0.9743\n",
      "Epoch 2/10\n",
      "60000/60000 [==============================] - 120s - loss: 0.0738 - acc: 0.9780 - val_loss: 0.0466 - val_acc: 0.9843\n",
      "Epoch 3/10\n",
      "60000/60000 [==============================] - 120s - loss: 0.0532 - acc: 0.9838 - val_loss: 0.0433 - val_acc: 0.9855\n",
      "Epoch 4/10\n",
      "60000/60000 [==============================] - 121s - loss: 0.0404 - acc: 0.9877 - val_loss: 0.0403 - val_acc: 0.9871\n",
      "Epoch 5/10\n",
      "60000/60000 [==============================] - 120s - loss: 0.0337 - acc: 0.9895 - val_loss: 0.0341 - val_acc: 0.9882\n",
      "Epoch 6/10\n",
      "60000/60000 [==============================] - 120s - loss: 0.0277 - acc: 0.9915 - val_loss: 0.0305 - val_acc: 0.9897\n",
      "Epoch 7/10\n",
      "60000/60000 [==============================] - 119s - loss: 0.0232 - acc: 0.9927 - val_loss: 0.0357 - val_acc: 0.9881\n",
      "Epoch 8/10\n",
      "60000/60000 [==============================] - 120s - loss: 0.0205 - acc: 0.9933 - val_loss: 0.0320 - val_acc: 0.9888\n",
      "Epoch 9/10\n",
      "60000/60000 [==============================] - 120s - loss: 0.0168 - acc: 0.9942 - val_loss: 0.0296 - val_acc: 0.9904\n",
      "Epoch 10/10\n",
      "60000/60000 [==============================] - 121s - loss: 0.0145 - acc: 0.9958 - val_loss: 0.0311 - val_acc: 0.9905\n",
      "CNN Error: 0.95%\n"
     ]
    }
   ],
   "source": [
    "# Simple CNN \n",
    "import numpy\n",
    "from keras.datasets import mnist\n",
    "from keras.models import Sequential\n",
    "from keras.layers import Dense\n",
    "from keras.layers import Dropout\n",
    "from keras.layers import Flatten\n",
    "from keras.layers.convolutional import Conv2D\n",
    "from keras.layers.convolutional import MaxPooling2D\n",
    "from keras.utils import np_utils\n",
    "# fix dimension ordering issue\n",
    "from keras import backend as K\n",
    "K.set_image_dim_ordering('th')\n",
    "# fix random seed for reproducibility\n",
    "seed = 7\n",
    "numpy.random.seed(seed)\n",
    "# load data\n",
    "(X_train, y_train), (X_test, y_test) = mnist.load_data()\n",
    "# reshape to be [samples][channels][width][height]\n",
    "X_train = X_train.reshape(X_train.shape[0], 1, 28, 28).astype('float32')\n",
    "X_test = X_test.reshape(X_test.shape[0], 1, 28, 28).astype('float32')\n",
    "# normalize inputs from 0-255 to 0-1\n",
    "X_train = X_train / 255\n",
    "X_test = X_test / 255\n",
    "# one hot encode outputs\n",
    "y_train = np_utils.to_categorical(y_train)\n",
    "y_test = np_utils.to_categorical(y_test)\n",
    "num_classes = y_test.shape[1]\n",
    "# define a simple CNN model\n",
    "def baseline_model():\n",
    "\t# create model\n",
    "\tmodel = Sequential()\n",
    "\tmodel.add(Conv2D(32, (5, 5), input_shape=(1, 28, 28), activation='relu'))\n",
    "\tmodel.add(MaxPooling2D(pool_size=(2, 2)))\n",
    "\tmodel.add(Dropout(0.2))\n",
    "\tmodel.add(Flatten())\n",
    "\tmodel.add(Dense(128, activation='relu'))\n",
    "\tmodel.add(Dense(num_classes, activation='softmax'))\n",
    "\t# Compile model\n",
    "\tmodel.compile(loss='categorical_crossentropy', optimizer='adam', metrics=['accuracy'])\n",
    "\treturn model\n",
    "# build the model\n",
    "model = baseline_model()\n",
    "# Fit the model\n",
    "model.fit(X_train, y_train, validation_data=(X_test, y_test), epochs=10, batch_size=200)\n",
    "# Final evaluation of the model\n",
    "scores = model.evaluate(X_test, y_test, verbose=0)\n",
    "print(\"CNN Error: %.2f%%\" % (100-scores[1]*100))"
   ]
  },
  {
   "cell_type": "code",
   "execution_count": 27,
   "metadata": {},
   "outputs": [
    {
     "name": "stdout",
     "output_type": "stream",
     "text": [
      "Train on 60000 samples, validate on 10000 samples\n",
      "Epoch 1/10\n",
      "60000/60000 [==============================] - 131s - loss: 0.3920 - acc: 0.8796 - val_loss: 0.0988 - val_acc: 0.9679\n",
      "Epoch 2/10\n",
      "60000/60000 [==============================] - 130s - loss: 0.0954 - acc: 0.9706 - val_loss: 0.0568 - val_acc: 0.9810\n",
      "Epoch 3/10\n",
      "60000/60000 [==============================] - 130s - loss: 0.0692 - acc: 0.9792 - val_loss: 0.0385 - val_acc: 0.9882\n",
      "Epoch 4/10\n",
      "60000/60000 [==============================] - 130s - loss: 0.0563 - acc: 0.9826 - val_loss: 0.0321 - val_acc: 0.9898\n",
      "Epoch 5/10\n",
      "60000/60000 [==============================] - 133s - loss: 0.0475 - acc: 0.9854 - val_loss: 0.0305 - val_acc: 0.9901\n",
      "Epoch 6/10\n",
      "60000/60000 [==============================] - 131s - loss: 0.0436 - acc: 0.9861 - val_loss: 0.0286 - val_acc: 0.9908\n",
      "Epoch 7/10\n",
      "60000/60000 [==============================] - 131s - loss: 0.0382 - acc: 0.9877 - val_loss: 0.0265 - val_acc: 0.9907\n",
      "Epoch 8/10\n",
      "60000/60000 [==============================] - 131s - loss: 0.0348 - acc: 0.9889 - val_loss: 0.0242 - val_acc: 0.9911\n",
      "Epoch 9/10\n",
      "60000/60000 [==============================] - 132s - loss: 0.0325 - acc: 0.9897 - val_loss: 0.0223 - val_acc: 0.9927\n",
      "Epoch 10/10\n",
      "60000/60000 [==============================] - 131s - loss: 0.0276 - acc: 0.9909 - val_loss: 0.0237 - val_acc: 0.9919\n",
      "Large CNN Error: 0.81%\n"
     ]
    }
   ],
   "source": [
    "# Larger CNN \n",
    "import numpy\n",
    "from keras.datasets import mnist\n",
    "from keras.models import Sequential\n",
    "from keras.layers import Dense\n",
    "from keras.layers import Dropout\n",
    "from keras.layers import Flatten\n",
    "from keras.layers.convolutional import Conv2D\n",
    "from keras.layers.convolutional import MaxPooling2D\n",
    "from keras.utils import np_utils\n",
    "from keras import backend as K\n",
    "K.set_image_dim_ordering('th')\n",
    "# fix random seed for reproducibility\n",
    "seed = 7\n",
    "numpy.random.seed(seed)\n",
    "# load data\n",
    "(X_train, y_train), (X_test, y_test) = mnist.load_data()\n",
    "# reshape to be [samples][pixels][width][height]\n",
    "X_train = X_train.reshape(X_train.shape[0], 1, 28, 28).astype('float32')\n",
    "X_test = X_test.reshape(X_test.shape[0], 1, 28, 28).astype('float32')\n",
    "# normalize inputs from 0-255 to 0-1\n",
    "X_train = X_train / 255\n",
    "X_test = X_test / 255\n",
    "# one hot encode outputs\n",
    "y_train = np_utils.to_categorical(y_train)\n",
    "y_test = np_utils.to_categorical(y_test)\n",
    "num_classes = y_test.shape[1]\n",
    "# define the larger model\n",
    "def larger_model():\n",
    "\t# create model\n",
    "\tmodel = Sequential()\n",
    "\tmodel.add(Conv2D(30, (5, 5), input_shape=(1, 28, 28), activation='relu'))\n",
    "\tmodel.add(MaxPooling2D(pool_size=(2, 2)))\n",
    "\tmodel.add(Conv2D(15, (3, 3), activation='relu'))\n",
    "\tmodel.add(MaxPooling2D(pool_size=(2, 2)))\n",
    "\tmodel.add(Dropout(0.2))\n",
    "\tmodel.add(Flatten())\n",
    "\tmodel.add(Dense(128, activation='relu'))\n",
    "\tmodel.add(Dense(50, activation='relu'))\n",
    "\tmodel.add(Dense(num_classes, activation='softmax'))\n",
    "\t# Compile model\n",
    "\tmodel.compile(loss='categorical_crossentropy', optimizer='adam', metrics=['accuracy'])\n",
    "\treturn model\n",
    "# build the model\n",
    "model = larger_model()\n",
    "# Fit the model\n",
    "model.fit(X_train, y_train, validation_data=(X_test, y_test), epochs=10, batch_size=200)\n",
    "# Final evaluation of the model\n",
    "scores = model.evaluate(X_test, y_test, verbose=0)\n",
    "print(\"Large CNN Error: %.2f%%\" % (100-scores[1]*100))"
   ]
  },
  {
   "cell_type": "code",
   "execution_count": 29,
   "metadata": {},
   "outputs": [
    {
     "data": {
      "image/png": "[encoded data removed]",
      "text/plain": [
       "<matplotlib.figure.Figure at 0xadb5cd5128>"
      ]
     },
     "metadata": {},
     "output_type": "display_data"
    }
   ],
   "source": [
    "#SVM\n",
    "import matplotlib.pyplot as plt\n",
    "from keras.datasets import mnist \n",
    "from matplotlib import pyplot \n",
    "# load data \n",
    "(X_train, y_train), (X_test, y_test) = mnist.load_data() \n",
    "# create a grid of 3x3 images \n",
    "for i in range(0, 9): \n",
    "    pyplot.subplot(330 + 1 + i) \n",
    "    pyplot.imshow(X_train[i], cmap=pyplot.get_cmap('gray'))\n",
    "# show the plot\n",
    "pyplot.show()\n",
    "#from sklearn.datasets import load_digits\n",
    "#digits = load_digits()\n",
    "\n",
    "# flatten 28*28 images to a 784 vector for each image\n",
    "num_pixels = X_train.shape[1] * X_train.shape[2]\n",
    "X_train = X_train.reshape(X_train.shape[0], num_pixels).astype('float32')\n",
    "X_test = X_test.reshape(X_test.shape[0], num_pixels).astype('float32')\n",
    "# normalize inputs from 0-255 to 0-1\n",
    "X_train = X_train / 255\n",
    "X_test = X_test / 255"
   ]
  },
  {
   "cell_type": "code",
   "execution_count": 30,
   "metadata": {},
   "outputs": [
    {
     "name": "stdout",
     "output_type": "stream",
     "text": [
      "X_train shape: (60000, 784)\n",
      "y_train shape: (60000,)\n",
      "X_test shape: (10000, 784)\n",
      "y_test shape: (10000,)\n"
     ]
    }
   ],
   "source": [
    "print(\"X_train shape: %s\" % repr(X_train.shape))\n",
    "print(\"y_train shape: %s\" % repr(y_train.shape))\n",
    "print(\"X_test shape: %s\" % repr(X_test.shape))\n",
    "print(\"y_test shape: %s\" % repr(y_test.shape))"
   ]
  },
  {
   "cell_type": "code",
   "execution_count": 31,
   "metadata": {
    "collapsed": true
   },
   "outputs": [],
   "source": [
    "from sklearn.svm import LinearSVC"
   ]
  },
  {
   "cell_type": "code",
   "execution_count": 32,
   "metadata": {
    "collapsed": true
   },
   "outputs": [],
   "source": [
    "svm = LinearSVC()"
   ]
  },
  {
   "cell_type": "code",
   "execution_count": 33,
   "metadata": {
    "collapsed": true
   },
   "outputs": [],
   "source": [
    "svm.fit(X_train, y_train);"
   ]
  },
  {
   "cell_type": "code",
   "execution_count": 34,
   "metadata": {},
   "outputs": [
    {
     "data": {
      "text/plain": [
       "array([5, 0, 4, ..., 5, 6, 8], dtype=uint8)"
      ]
     },
     "execution_count": 34,
     "metadata": {},
     "output_type": "execute_result"
    }
   ],
   "source": [
    "svm.predict(X_train)"
   ]
  },
  {
   "cell_type": "code",
   "execution_count": 35,
   "metadata": {},
   "outputs": [
    {
     "data": {
      "text/plain": [
       "0.92626666666666668"
      ]
     },
     "execution_count": 35,
     "metadata": {},
     "output_type": "execute_result"
    }
   ],
   "source": [
    "svm.score(X_train, y_train)"
   ]
  },
  {
   "cell_type": "code",
   "execution_count": 36,
   "metadata": {},
   "outputs": [
    {
     "data": {
      "text/plain": [
       "0.91849999999999998"
      ]
     },
     "execution_count": 36,
     "metadata": {},
     "output_type": "execute_result"
    }
   ],
   "source": [
    "svm.score(X_test, y_test)"
   ]
  },
  {
   "cell_type": "code",
   "execution_count": 37,
   "metadata": {},
   "outputs": [
    {
     "name": "stdout",
     "output_type": "stream",
     "text": [
      "scores: [ 0.91436901  0.90843193  0.90766667  0.9050596   0.91988996]  mean: 0.911083  std: 0.005354\n"
     ]
    }
   ],
   "source": [
    "import numpy as np\n",
    "from sklearn.cross_validation import cross_val_score\n",
    "scores =  cross_val_score(svm, X_train, y_train, cv=5)\n",
    "print(\"scores: %s  mean: %f  std: %f\" % (str(scores), np.mean(scores), np.std(scores)))"
   ]
  },
  {
   "cell_type": "code",
   "execution_count": null,
   "metadata": {
    "collapsed": true
   },
   "outputs": [],
   "source": []
  }
 ],
 "metadata": {
  "kernelspec": {
   "display_name": "Python 3",
   "language": "python",
   "name": "python3"
  },
  "language_info": {
   "codemirror_mode": {
    "name": "ipython",
    "version": 3
   },
   "file_extension": ".py",
   "mimetype": "text/x-python",
   "name": "python",
   "nbconvert_exporter": "python",
   "pygments_lexer": "ipython3",
   "version": "3.5.4"
  }
 },
 "nbformat": 4,
 "nbformat_minor": 2
}
