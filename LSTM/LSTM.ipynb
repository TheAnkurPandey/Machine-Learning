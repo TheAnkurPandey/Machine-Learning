{
 "cells": [
  {
   "cell_type": "code",
   "execution_count": null,
   "metadata": {
    "collapsed": true
   },
   "outputs": [],
   "source": []
  },
  {
   "cell_type": "code",
   "execution_count": 1,
   "metadata": {},
   "outputs": [
    {
     "name": "stderr",
     "output_type": "stream",
     "text": [
      "Using TensorFlow backend.\n"
     ]
    }
   ],
   "source": [
    "# Imports\n",
    "import sys\n",
    "\n",
    "from tensorflow.examples.tutorials.mnist import input_data\n",
    "from keras.models import Sequential\n",
    "from keras.layers import LSTM, Dense\n",
    "from keras.models import load_model\n",
    "import numpy as np"
   ]
  },
  {
   "cell_type": "code",
   "execution_count": 2,
   "metadata": {},
   "outputs": [],
   "source": [
    "class MnistLSTMClassifier(object):\n",
    "    def __init__(self):\n",
    "        # Classifier\n",
    "        self.time_steps=28 # timesteps to unroll\n",
    "        self.n_units=128 # hidden LSTM units\n",
    "        self.n_inputs=28 # rows of 28 pixels (an mnist img is 28x28)\n",
    "        self.n_classes=10 # mnist classes/labels (0-9)\n",
    "        self.batch_size=128 # Size of each batch\n",
    "        self.n_epochs=10\n",
    "        # Internal\n",
    "        self._data_loaded = False\n",
    "        self._trained = False\n",
    "\n",
    "    def __create_model(self):\n",
    "        self.model = Sequential()\n",
    "        self.model.add(LSTM(self.n_units, input_shape=(self.time_steps, self.n_inputs)))\n",
    "        self.model.add(Dense(self.n_classes, activation='softmax'))\n",
    "\n",
    "        self.model.compile(loss='categorical_crossentropy',\n",
    "                      optimizer='rmsprop',\n",
    "                      metrics=['accuracy'])\n",
    "\n",
    "    def __load_data(self):\n",
    "        self.mnist = input_data.read_data_sets(\"mnist\", one_hot=True)\n",
    "        self._data_loaded = True\n",
    "\n",
    "    def train(self, save_model=False):\n",
    "        self.__create_model()\n",
    "        if self._data_loaded == False:\n",
    "            self.__load_data()\n",
    "\n",
    "        x_train = [x.reshape((-1, self.time_steps, self.n_inputs)) for x in self.mnist.train.images]\n",
    "        x_train = np.array(x_train).reshape((-1, self.time_steps, self.n_inputs))\n",
    "        \n",
    "        x_test = [x.reshape((-1, self.time_steps, self.n_inputs)) for x in self.mnist.test.images]\n",
    "        x_test = np.array(x_test).reshape((-1, self.time_steps, self.n_inputs))\n",
    "\n",
    "        self.history = self.model.fit(x_train, self.mnist.train.labels,validation_data=(x_test, self.mnist.test.labels),\n",
    "                  batch_size=self.batch_size, epochs=self.n_epochs, shuffle=False)\n",
    "\n",
    "        self._trained = True\n",
    "        \n",
    "        if save_model:\n",
    "            self.model.save(\"./saved_model/lstm-model.h5\")\n",
    "\n",
    "    def evaluate(self, model=None):\n",
    "        if self._trained == False and model == None:\n",
    "            errmsg = \"[!] Error: classifier wasn't trained or classifier path is not precised.\"\n",
    "            print(errmsg, file=sys.stderr)\n",
    "            sys.exit(0)\n",
    "\n",
    "        if self._data_loaded == False:\n",
    "            self.__load_data()\n",
    "\n",
    "        x_test = [x.reshape((-1, self.time_steps, self.n_inputs)) for x in self.mnist.test.images]\n",
    "        x_test = np.array(x_test).reshape((-1, self.time_steps, self.n_inputs))\n",
    "\n",
    "        model = load_model(model) if model else self.model\n",
    "        test_loss = model.evaluate(x_test, self.mnist.test.labels)\n",
    "        print(\"LSTM Error: %.2f%%\" % (100-test_loss[1]*100))\n",
    "        \n",
    "    def _print_summary(self):\n",
    "        self.model.summary()\n"
   ]
  },
  {
   "cell_type": "code",
   "execution_count": 3,
   "metadata": {},
   "outputs": [],
   "source": [
    "lstm_classifier = MnistLSTMClassifier()"
   ]
  },
  {
   "cell_type": "code",
   "execution_count": 4,
   "metadata": {},
   "outputs": [
    {
     "name": "stdout",
     "output_type": "stream",
     "text": [
      "Extracting mnist\\train-images-idx3-ubyte.gz\n",
      "Extracting mnist\\train-labels-idx1-ubyte.gz\n",
      "Extracting mnist\\t10k-images-idx3-ubyte.gz\n",
      "Extracting mnist\\t10k-labels-idx1-ubyte.gz\n",
      "Train on 55000 samples, validate on 10000 samples\n",
      "Epoch 1/10\n",
      "55000/55000 [==============================] - 58s - loss: 0.6402 - acc: 0.7897 - val_loss: 0.5594 - val_acc: 0.8198\n",
      "Epoch 2/10\n",
      "55000/55000 [==============================] - 57s - loss: 0.1893 - acc: 0.9424 - val_loss: 0.3914 - val_acc: 0.8808\n",
      "Epoch 3/10\n",
      "55000/55000 [==============================] - 57s - loss: 0.1207 - acc: 0.9639 - val_loss: 0.1083 - val_acc: 0.9656\n",
      "Epoch 4/10\n",
      "55000/55000 [==============================] - 56s - loss: 0.0863 - acc: 0.9742 - val_loss: 0.0849 - val_acc: 0.9721\n",
      "Epoch 5/10\n",
      "55000/55000 [==============================] - 57s - loss: 0.0680 - acc: 0.9792 - val_loss: 0.0917 - val_acc: 0.9715\n",
      "Epoch 6/10\n",
      "55000/55000 [==============================] - 59s - loss: 0.0550 - acc: 0.9829 - val_loss: 0.0756 - val_acc: 0.9770\n",
      "Epoch 7/10\n",
      "55000/55000 [==============================] - 57s - loss: 0.0440 - acc: 0.9865 - val_loss: 0.0678 - val_acc: 0.9792\n",
      "Epoch 8/10\n",
      "55000/55000 [==============================] - 57s - loss: 0.0374 - acc: 0.9888 - val_loss: 0.0624 - val_acc: 0.9819\n",
      "Epoch 9/10\n",
      "55000/55000 [==============================] - 57s - loss: 0.0327 - acc: 0.9903 - val_loss: 0.0584 - val_acc: 0.9843\n",
      "Epoch 10/10\n",
      "55000/55000 [==============================] - 57s - loss: 0.0269 - acc: 0.9917 - val_loss: 0.0601 - val_acc: 0.9846\n"
     ]
    }
   ],
   "source": [
    "lstm_classifier.train(save_model=True)"
   ]
  },
  {
   "cell_type": "code",
   "execution_count": 5,
   "metadata": {},
   "outputs": [
    {
     "name": "stdout",
     "output_type": "stream",
     "text": [
      "_________________________________________________________________\n",
      "Layer (type)                 Output Shape              Param #   \n",
      "=================================================================\n",
      "lstm_1 (LSTM)                (None, 128)               80384     \n",
      "_________________________________________________________________\n",
      "dense_1 (Dense)              (None, 10)                1290      \n",
      "=================================================================\n",
      "Total params: 81,674\n",
      "Trainable params: 81,674\n",
      "Non-trainable params: 0\n",
      "_________________________________________________________________\n"
     ]
    }
   ],
   "source": [
    "lstm_classifier._print_summary()"
   ]
  },
  {
   "cell_type": "code",
   "execution_count": 7,
   "metadata": {},
   "outputs": [
    {
     "name": "stdout",
     "output_type": "stream",
     "text": [
      " 9952/10000 [============================>.] - ETA: 0sLSTM Error: 1.54%\n"
     ]
    }
   ],
   "source": [
    "lstm_classifier.evaluate()"
   ]
  },
  {
   "cell_type": "code",
   "execution_count": 8,
   "metadata": {},
   "outputs": [
    {
     "name": "stdout",
     "output_type": "stream",
     "text": [
      "dict_keys(['acc', 'val_loss', 'loss', 'val_acc'])\n"
     ]
    },
    {
     "data": {
      "image/png": "[encoded data removed]",
      "text/plain": [
       "<matplotlib.figure.Figure at 0x2948a33f438>"
      ]
     },
     "metadata": {},
     "output_type": "display_data"
    },
    {
     "data": {
      "image/png": "[encoded data removed]",
      "text/plain": [
       "<matplotlib.figure.Figure at 0x2948aaebe10>"
      ]
     },
     "metadata": {},
     "output_type": "display_data"
    }
   ],
   "source": [
    "history = lstm_classifier.history\n",
    "from matplotlib import pyplot as plt\n",
    "print(history.history.keys())\n",
    "# summarize history for accuracy\n",
    "plt.plot(history.history['acc'])\n",
    "plt.plot(history.history['val_acc'])\n",
    "plt.title('model accuracy')\n",
    "plt.ylabel('accuracy')\n",
    "plt.xlabel('epoch')\n",
    "plt.legend(['train', 'test'], loc='upper left')\n",
    "plt.show()\n",
    "# summarize history for loss\n",
    "plt.plot(history.history['loss'])\n",
    "plt.plot(history.history['val_loss'])\n",
    "plt.title('model loss')\n",
    "plt.ylabel('loss')\n",
    "plt.xlabel('epoch')\n",
    "plt.legend(['train', 'test'], loc='upper left')\n",
    "plt.show()"
   ]
  },
  {
   "cell_type": "code",
   "execution_count": null,
   "metadata": {
    "collapsed": true
   },
   "outputs": [],
   "source": []
  }
 ],
 "metadata": {
  "kernelspec": {
   "display_name": "Python 3",
   "language": "python",
   "name": "python3"
  },
  "language_info": {
   "codemirror_mode": {
    "name": "ipython",
    "version": 3
   },
   "file_extension": ".py",
   "mimetype": "text/x-python",
   "name": "python",
   "nbconvert_exporter": "python",
   "pygments_lexer": "ipython3",
   "version": "3.5.4"
  }
 },
 "nbformat": 4,
 "nbformat_minor": 2
}
